{
 "cells": [
  {
   "cell_type": "code",
   "execution_count": 1,
   "metadata": {},
   "outputs": [
    {
     "name": "stdout",
     "output_type": "stream",
     "text": [
      "RESULT:  {'1110': 67, '1100': 61, '0101': 74, '1001': 69, '0111': 56, '0011': 70, '1011': 63, '1101': 48, '1000': 66, '0110': 71, '1010': 67, '1111': 62, '0001': 56, '0010': 69, '0000': 66, '0100': 59} \n",
      "\n"
     ]
    }
   ],
   "source": [
    "from qiskit import QuantumRegister, ClassicalRegister, QuantumCircuit\n",
    "from qiskit_aer import AerSimulator\n",
    "\n",
    "# Initialize quantum circuit\n",
    "qreg_q = QuantumRegister(4, 'q')\n",
    "creg_c = ClassicalRegister(4, 'c')\n",
    "circuit = QuantumCircuit(qreg_q, creg_c)\n",
    "\n",
    "# Apply Hadamard gate to all qubits\n",
    "circuit.h(qreg_q)\n",
    "\n",
    "# Measures all qubits\n",
    "circuit.measure(qreg_q, creg_c)\n",
    "\n",
    "# Run circuit on Aer simulator\n",
    "aer_sim = AerSimulator()\n",
    "job = aer_sim.run(circuit, shots=1024)\n",
    "result = job.result()\n",
    "\n",
    "# Get counts from the result\n",
    "counts = result.get_counts(circuit)\n",
    "\n",
    "print('RESULT: ', counts, '\\n')"
   ]
  }
 ],
 "metadata": {
  "kernelspec": {
   "display_name": "Python 3",
   "language": "python",
   "name": "python3"
  },
  "language_info": {
   "codemirror_mode": {
    "name": "ipython",
    "version": 3
   },
   "file_extension": ".py",
   "mimetype": "text/x-python",
   "name": "python",
   "nbconvert_exporter": "python",
   "pygments_lexer": "ipython3",
   "version": "3.10.13"
  }
 },
 "nbformat": 4,
 "nbformat_minor": 2
}
