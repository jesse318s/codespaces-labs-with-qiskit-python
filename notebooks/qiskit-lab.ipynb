{
 "cells": [
  {
   "cell_type": "code",
   "execution_count": 6,
   "metadata": {},
   "outputs": [
    {
     "name": "stdout",
     "output_type": "stream",
     "text": [
      "RESULT:  {'0101': 58, '1001': 68, '1101': 57, '1011': 55, '0111': 68, '0011': 60, '1110': 68, '0010': 76, '0000': 74, '0001': 63, '1111': 68, '1100': 73, '1000': 65, '0110': 59, '1010': 59, '0100': 53} \n",
      "\n"
     ]
    }
   ],
   "source": [
    "from qiskit import QuantumRegister, ClassicalRegister, QuantumCircuit\n",
    "from qiskit_aer import AerSimulator\n",
    "\n",
    "# Initialize quantum circuit\n",
    "qreg_q = QuantumRegister(4, 'q')\n",
    "creg_c = ClassicalRegister(4, 'c')\n",
    "circuit = QuantumCircuit(qreg_q, creg_c)\n",
    "\n",
    "# Apply Hadamard gate to all qubits\n",
    "circuit.h(qreg_q)\n",
    "\n",
    "# Measures all qubits\n",
    "circuit.measure(qreg_q, creg_c)\n",
    "\n",
    "# Run circuit on Aer simulator\n",
    "aer_sim = AerSimulator()\n",
    "job = aer_sim.run(circuit, shots=1024)\n",
    "\n",
    "# Get counts from the result\n",
    "result = job.result()\n",
    "counts = result.get_counts(circuit)\n",
    "\n",
    "print('RESULT: ', counts, '\\n')"
   ]
  }
 ],
 "metadata": {
  "kernelspec": {
   "display_name": "Python 3",
   "language": "python",
   "name": "python3"
  },
  "language_info": {
   "codemirror_mode": {
    "name": "ipython",
    "version": 3
   },
   "file_extension": ".py",
   "mimetype": "text/x-python",
   "name": "python",
   "nbconvert_exporter": "python",
   "pygments_lexer": "ipython3",
   "version": "3.10.13"
  }
 },
 "nbformat": 4,
 "nbformat_minor": 2
}
